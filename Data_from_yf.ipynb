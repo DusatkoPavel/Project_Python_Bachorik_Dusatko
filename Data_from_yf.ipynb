{
 "cells": [
  {
   "cell_type": "code",
   "execution_count": 2,
   "metadata": {},
   "outputs": [],
   "source": [
    "import pandas as pd\n",
    "import requests\n",
    "from bs4 import BeautifulSoup\n",
    "import yfinance as yf"
   ]
  },
  {
   "cell_type": "code",
   "execution_count": 3,
   "metadata": {},
   "outputs": [],
   "source": [
    "#Downloading Tickers of S&P500 stocks\n",
    "url = \"https://en.wikipedia.org/wiki/List_of_S%26P_500_companies\"\n",
    "response = requests.get(url)\n",
    "soup = BeautifulSoup(response.text, \"html.parser\")\n",
    "table = soup.find(\"table\", {\"class\": \"wikitable\"})\n",
    "\n",
    "tickers = []\n",
    "for row in table.find_all(\"tr\")[1:]:\n",
    "    columns = row.find_all(\"td\")\n",
    "    ticker = columns[0].text.strip()\n",
    "    tickers.append(ticker)\n",
    "\n",
    "\n",
    "sp500_df = pd.DataFrame({\"Ticker\": tickers})\n",
    "sp500_df.to_csv(\"sp500_tickers.csv\", index=False)"
   ]
  },
  {
   "cell_type": "code",
   "execution_count": 4,
   "metadata": {},
   "outputs": [
    {
     "data": {
      "text/html": [
       "<div>\n",
       "<style scoped>\n",
       "    .dataframe tbody tr th:only-of-type {\n",
       "        vertical-align: middle;\n",
       "    }\n",
       "\n",
       "    .dataframe tbody tr th {\n",
       "        vertical-align: top;\n",
       "    }\n",
       "\n",
       "    .dataframe thead th {\n",
       "        text-align: right;\n",
       "    }\n",
       "</style>\n",
       "<table border=\"1\" class=\"dataframe\">\n",
       "  <thead>\n",
       "    <tr style=\"text-align: right;\">\n",
       "      <th></th>\n",
       "      <th>Ticker</th>\n",
       "    </tr>\n",
       "  </thead>\n",
       "  <tbody>\n",
       "    <tr>\n",
       "      <th>0</th>\n",
       "      <td>MMM</td>\n",
       "    </tr>\n",
       "    <tr>\n",
       "      <th>1</th>\n",
       "      <td>AOS</td>\n",
       "    </tr>\n",
       "    <tr>\n",
       "      <th>2</th>\n",
       "      <td>ABT</td>\n",
       "    </tr>\n",
       "    <tr>\n",
       "      <th>3</th>\n",
       "      <td>ABBV</td>\n",
       "    </tr>\n",
       "    <tr>\n",
       "      <th>4</th>\n",
       "      <td>ACN</td>\n",
       "    </tr>\n",
       "    <tr>\n",
       "      <th>...</th>\n",
       "      <td>...</td>\n",
       "    </tr>\n",
       "    <tr>\n",
       "      <th>498</th>\n",
       "      <td>YUM</td>\n",
       "    </tr>\n",
       "    <tr>\n",
       "      <th>499</th>\n",
       "      <td>ZBRA</td>\n",
       "    </tr>\n",
       "    <tr>\n",
       "      <th>500</th>\n",
       "      <td>ZBH</td>\n",
       "    </tr>\n",
       "    <tr>\n",
       "      <th>501</th>\n",
       "      <td>ZION</td>\n",
       "    </tr>\n",
       "    <tr>\n",
       "      <th>502</th>\n",
       "      <td>ZTS</td>\n",
       "    </tr>\n",
       "  </tbody>\n",
       "</table>\n",
       "<p>503 rows × 1 columns</p>\n",
       "</div>"
      ],
      "text/plain": [
       "    Ticker\n",
       "0      MMM\n",
       "1      AOS\n",
       "2      ABT\n",
       "3     ABBV\n",
       "4      ACN\n",
       "..     ...\n",
       "498    YUM\n",
       "499   ZBRA\n",
       "500    ZBH\n",
       "501   ZION\n",
       "502    ZTS\n",
       "\n",
       "[503 rows x 1 columns]"
      ]
     },
     "execution_count": 4,
     "metadata": {},
     "output_type": "execute_result"
    }
   ],
   "source": [
    "sp500 = pd.read_csv(\"sp500_tickers.csv\")\n",
    "sp500"
   ]
  },
  {
   "cell_type": "code",
   "execution_count": 5,
   "metadata": {},
   "outputs": [
    {
     "data": {
      "text/plain": [
       "['MMM', 'AOS', 'ABT', 'ABBV']"
      ]
     },
     "execution_count": 5,
     "metadata": {},
     "output_type": "execute_result"
    }
   ],
   "source": [
    "#shorter list for testing\n",
    "ticktry = tickers[:4]\n",
    "ticktry"
   ]
  },
  {
   "cell_type": "code",
   "execution_count": 7,
   "metadata": {},
   "outputs": [
    {
     "name": "stderr",
     "output_type": "stream",
     "text": [
      "BRK.B: No data found, symbol may be delisted\n",
      "BF.B: No price data found, symbol may be delisted (period=5y)\n"
     ]
    },
    {
     "name": "stdout",
     "output_type": "stream",
     "text": [
      "                                  MMM        AOS         ABT        ABBV  \\\n",
      "2018-09-04 00:00:00-04:00  172.096634  52.596870   61.797981   74.815521   \n",
      "2018-09-05 00:00:00-04:00  174.761429  52.706188   60.775837   75.313965   \n",
      "2018-09-06 00:00:00-04:00  175.512161  52.815502   60.619320   74.166733   \n",
      "2018-09-07 00:00:00-04:00  175.371887  53.289173   60.969212   74.506950   \n",
      "2018-09-10 00:00:00-04:00  175.668884  53.790180   61.282314   74.230026   \n",
      "...                               ...        ...         ...         ...   \n",
      "2023-08-28 00:00:00-04:00  104.120003  70.709999  102.790001  147.429993   \n",
      "2023-08-29 00:00:00-04:00  105.570000  71.860001  103.870003  147.589996   \n",
      "2023-08-30 00:00:00-04:00  104.449997  72.300003  104.410004  148.320007   \n",
      "2023-08-31 00:00:00-04:00  106.669998  72.500000  102.900002  146.960007   \n",
      "2023-09-01 00:00:00-04:00  106.949997  73.570000  102.849998  148.199997   \n",
      "\n",
      "                                  ACN       ATVI        ADM        ADBE  \\\n",
      "2018-09-04 00:00:00-04:00  157.249573  70.396423  43.774380  266.679993   \n",
      "2018-09-05 00:00:00-04:00  156.451691  69.113503  43.555859  256.140015   \n",
      "2018-09-06 00:00:00-04:00  157.119659  69.412529  43.188744  259.750000   \n",
      "2018-09-07 00:00:00-04:00  156.850647  70.965538  43.101345  260.869995   \n",
      "2018-09-10 00:00:00-04:00  157.295944  71.631111  43.442226  265.369995   \n",
      "...                               ...        ...        ...         ...   \n",
      "2023-08-28 00:00:00-04:00  320.910004  91.769997  80.870003  529.919983   \n",
      "2023-08-29 00:00:00-04:00  323.450012  91.980003  81.610001  540.570007   \n",
      "2023-08-30 00:00:00-04:00  323.250000  91.980003  80.750000  545.359985   \n",
      "2023-08-31 00:00:00-04:00  323.769989  91.989998  79.300003  559.340027   \n",
      "2023-09-01 00:00:00-04:00  327.739990  92.040001  79.790001  563.210022   \n",
      "\n",
      "                                  ADP        AES  ...         WTW         GWW  \\\n",
      "2018-09-04 00:00:00-04:00  131.423782  11.339428  ...  137.566467  329.108215   \n",
      "2018-09-05 00:00:00-04:00  131.721207  11.563630  ...  137.613098  328.877014   \n",
      "2018-09-06 00:00:00-04:00  132.748703  11.451529  ...  139.317627  326.583588   \n",
      "2018-09-07 00:00:00-04:00  132.252991  11.304935  ...  138.237152  323.023041   \n",
      "2018-09-10 00:00:00-04:00  132.514389  11.399789  ...  138.022903  325.704987   \n",
      "...                               ...        ...  ...         ...         ...   \n",
      "2023-08-28 00:00:00-04:00  254.389999  17.920000  ...  206.500000  710.219971   \n",
      "2023-08-29 00:00:00-04:00  254.350006  18.209999  ...  207.630005  717.799988   \n",
      "2023-08-30 00:00:00-04:00  254.929993  18.219999  ...  208.550003  725.309998   \n",
      "2023-08-31 00:00:00-04:00  254.610001  17.930000  ...  206.759995  714.140015   \n",
      "2023-09-01 00:00:00-04:00  255.750000  17.889999  ...  207.869995  710.780029   \n",
      "\n",
      "                                 WYNN        XEL         XYL         YUM  \\\n",
      "2018-09-04 00:00:00-04:00  135.688843  42.169983   71.178909   79.581917   \n",
      "2018-09-05 00:00:00-04:00  133.165359  42.848179   73.107445   79.316734   \n",
      "2018-09-06 00:00:00-04:00  121.287971  42.856880   73.765991   80.405014   \n",
      "2018-09-07 00:00:00-04:00  121.790771  42.317806   74.010620   80.843971   \n",
      "2018-09-10 00:00:00-04:00  127.312050  42.613422   75.167755   80.898834   \n",
      "...                               ...        ...         ...         ...   \n",
      "2023-08-28 00:00:00-04:00   96.790001  57.849998  101.491516  129.309998   \n",
      "2023-08-29 00:00:00-04:00   98.070000  57.950001  101.960007  128.899994   \n",
      "2023-08-30 00:00:00-04:00   99.389999  57.680000  103.489998  130.100006   \n",
      "2023-08-31 00:00:00-04:00  101.379997  57.130001  103.540001  129.380005   \n",
      "2023-09-01 00:00:00-04:00  101.639999  56.509998  102.580002  129.639999   \n",
      "\n",
      "                                 ZBRA         ZBH       ZION         ZTS  \n",
      "2018-09-04 00:00:00-04:00  169.960007  114.022636  45.955891   87.055901  \n",
      "2018-09-05 00:00:00-04:00  167.169998  114.536812  45.879185   86.175354  \n",
      "2018-09-06 00:00:00-04:00  166.979996  115.509048  45.444508   86.833336  \n",
      "2018-09-07 00:00:00-04:00  167.830002  115.714722  44.967224   86.533379  \n",
      "2018-09-10 00:00:00-04:00  170.050003  115.163155  45.112118   85.991531  \n",
      "...                               ...         ...        ...         ...  \n",
      "2023-08-28 00:00:00-04:00  269.920013  117.529999  34.900002  186.979996  \n",
      "2023-08-29 00:00:00-04:00  273.489990  119.230003  35.439999  192.770004  \n",
      "2023-08-30 00:00:00-04:00  279.109985  120.239998  34.990002  192.699997  \n",
      "2023-08-31 00:00:00-04:00  275.010010  119.120003  35.500000  190.509995  \n",
      "2023-09-01 00:00:00-04:00  275.950012  119.449997  36.439999  192.520004  \n",
      "\n",
      "[1258 rows x 503 columns]\n"
     ]
    }
   ],
   "source": [
    "#Downloading Closing prices of S&P 500 stocks to csv file\n",
    "Closing_prices = pd.DataFrame()\n",
    "\n",
    "for ticker in tickers:\n",
    "    X = yf.Ticker(ticker)   \n",
    "    yyy = pd.DataFrame(X.history(period=\"5y\"))  #1d, 3d or any of: ['1mo', '3mo', '6mo', 'ytd', '1y', '2y', '5y', '10y', 'max']\n",
    "    yyy.rename(columns={'Close': ticker}, inplace=True)\n",
    "    Closing_prices = pd.concat([Closing_prices, yyy[ticker]], axis=1)\n",
    "\n",
    "print(Closing_prices)\n",
    "Closing_prices.to_csv(\"Closing_prices.csv\", index=True)"
   ]
  }
 ],
 "metadata": {
  "kernelspec": {
   "display_name": "base",
   "language": "python",
   "name": "python3"
  },
  "language_info": {
   "codemirror_mode": {
    "name": "ipython",
    "version": 3
   },
   "file_extension": ".py",
   "mimetype": "text/x-python",
   "name": "python",
   "nbconvert_exporter": "python",
   "pygments_lexer": "ipython3",
   "version": "3.11.4"
  },
  "orig_nbformat": 4
 },
 "nbformat": 4,
 "nbformat_minor": 2
}
